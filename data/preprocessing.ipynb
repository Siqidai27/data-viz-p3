{
 "cells": [
  {
   "cell_type": "code",
   "execution_count": 136,
   "metadata": {},
   "outputs": [
    {
     "name": "stdout",
     "output_type": "stream",
     "text": [
      "(76979, 22)\n"
     ]
    }
   ],
   "source": [
    "import pandas as pd\n",
    "# import numpy as np\n",
    "\n",
    "# # data_origin= pd.read_csv('globalterrorismdb_0616dist.csv',error_bad_lines=False)\n",
    "# data_origin= pd.read_csv('globalterrorism_v3.csv',encoding = \"ISO-8859-1\")\n",
    "# for index, row in data_origin.iterrows():\n",
    "#     if index == 7:\n",
    "#         print(type(row))\n",
    "        \n",
    "# import csv, sys\n",
    "# from collections import defaultdict\n",
    "\n",
    "# def default_factory():\n",
    "#     return [0, 0, None, None, 0, 0, 0, 0, 0, 0, 0, 0, 0, 0, 0, 0, 0, 0, 0, 0, 0, 0, 0, 0, 0, 0, 0, 0, 0, 0, 0, 0, 0, 0, 0, 0, 0, 0, 0, 0, 0, 0, 0, 0, 0, 0] # intialize values\n",
    "    \n",
    "file = 'globalterrorismdb_used.csv' # file to read from\n",
    "# file = 'globalterrorism_v4.csv'\n",
    "out_file = 'globalterrorism_new.csv' # file to write to\n",
    "\n",
    "reader = csv.DictReader(open(file, newline=''))\n",
    "table=[]\n",
    "# airline_fleets = defaultdict(default_factory)\n",
    "for row in reader:\n",
    "#     variables for fields read in\n",
    "    latitude = row[\"latitude\"]\n",
    "    longtitude = row[\"longitude\"]\n",
    "    hurt = row[\"nwound\"]\n",
    "    kill = row[\"nkill\"]\n",
    "    ishostkid = row[\"ishostkid\"]\n",
    "    nhostkid = row[\"nhostkid\"]\n",
    "#     propextent = row[\"propextent\"]\n",
    "    if(hurt.isdigit()): # filters negative values\n",
    "        row[\"nwound\"] = int(hurt)\n",
    "    if(kill.isdigit()):\n",
    "        row[\"nkill\"] = int(kill)\n",
    "    if(ishostkid.isdigit()):\n",
    "        row[\"ishostkid\"] = int(ishostkid)\n",
    "    if(nhostkid.isdigit()):\n",
    "        row[\"nhostkid\"] = int(nhostkid)\n",
    "#     if(propextent.isdigit()==False):\n",
    "#         continue\n",
    "    if((hurt==\"0\" or hurt==\"\") and (kill==\"0\"or kill==\"\") and (ishostkid==\"0\"or ishostkid==\"\")and (nhostkid==\"0\"or nhostkid==\"\")):\n",
    "        continue\n",
    "    if(latitude==\"\" and longtitude==\"\") :\n",
    "        continue\n",
    "\n",
    "    else:\n",
    "        table.append(row)\n",
    "\n",
    "# print(table)\n",
    "df = pd.DataFrame(table)\n",
    "print(df.shape)\n",
    "df.to_csv(out_file)\n",
    "        \n",
    "# myfile = open(out_file,  \"w\", newline=\"\")\n",
    "# wr = csv.writer(myfile, quoting=csv.QUOTE_ALL)\n",
    "# wr.writerow(table)\n",
    "       \n",
    "#        or ((hurt==0 or hurt==\"\")and (kill==0 or kill==\"\")))"
   ]
  },
  {
   "cell_type": "code",
   "execution_count": 135,
   "metadata": {},
   "outputs": [
    {
     "data": {
      "text/plain": [
       "False"
      ]
     },
     "execution_count": 135,
     "metadata": {},
     "output_type": "execute_result"
    }
   ],
   "source": [
    "x=\"\"\n",
    "x.isdigit()"
   ]
  }
 ],
 "metadata": {
  "kernelspec": {
   "display_name": "Python 3",
   "language": "python",
   "name": "python3"
  },
  "language_info": {
   "codemirror_mode": {
    "name": "ipython",
    "version": 3
   },
   "file_extension": ".py",
   "mimetype": "text/x-python",
   "name": "python",
   "nbconvert_exporter": "python",
   "pygments_lexer": "ipython3",
   "version": "3.4.3"
  }
 },
 "nbformat": 4,
 "nbformat_minor": 2
}
